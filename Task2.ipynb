{
  "nbformat": 4,
  "nbformat_minor": 0,
  "metadata": {
    "colab": {
      "provenance": [],
      "authorship_tag": "ABX9TyMgbATFlOrTQ9wiA3h96DsA",
      "include_colab_link": true
    },
    "kernelspec": {
      "name": "python3",
      "display_name": "Python 3"
    },
    "language_info": {
      "name": "python"
    }
  },
  "cells": [
    {
      "cell_type": "markdown",
      "metadata": {
        "id": "view-in-github",
        "colab_type": "text"
      },
      "source": [
        "<a href=\"https://colab.research.google.com/github/ganeshbulagondla/content/blob/main/Task2.ipynb\" target=\"_parent\"><img src=\"https://colab.research.google.com/assets/colab-badge.svg\" alt=\"Open In Colab\"/></a>"
      ]
    },
    {
      "cell_type": "code",
      "execution_count": 5,
      "metadata": {
        "colab": {
          "base_uri": "https://localhost:8080/"
        },
        "id": "WQHadn3OV51q",
        "outputId": "f738afa0-6a4e-4846-9703-ae4c0af8dbfd"
      },
      "outputs": [
        {
          "output_type": "stream",
          "name": "stdout",
          "text": [
            "None\n"
          ]
        }
      ],
      "source": [
        "def rag_pipeline(urls, user_query):\n",
        "  def scrape_website(url):\n",
        "    all_content = []\n",
        "    for url in urls:\n",
        "        content = scrape_website(url)\n",
        "        chunks = [content[i:i+500] for i in range(0, len(content), 500)]\n",
        "        all_content.extend(chunks)\n",
        "    for i, chunk in enumerate(all_content):\n",
        "        embedding = generate_embeddings(chunk)\n",
        "        store_embedding(f\"chunk-{i}\", embedding, {\"source\": url, \"content\": chunk})\n",
        "    results = query_embeddings(user_query)\n",
        "    context = \"\\n\".join([chunk['metadata']['content'] for chunk in results['matches']])\n",
        "    return generate_response(user_query, context)\n",
        "urls = [\"https://example.com\"]\n",
        "user_query = \"What information does this website provide?\"\n",
        "print(rag_pipeline(urls, user_query))"
      ]
    }
  ]
}